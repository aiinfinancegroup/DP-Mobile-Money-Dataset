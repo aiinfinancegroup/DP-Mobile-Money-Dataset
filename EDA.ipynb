{
 "cells": [
  {
   "cell_type": "markdown",
   "id": "4fa8366a",
   "metadata": {
    "id": "4fa8366a"
   },
   "source": [
    "### Exploratory Data Analysis (EDA)"
   ]
  },
  {
   "cell_type": "code",
   "execution_count": 15,
   "id": "078e4a21",
   "metadata": {
    "colab": {
     "base_uri": "https://localhost:8080/",
     "height": 607
    },
    "executionInfo": {
     "elapsed": 8787,
     "status": "ok",
     "timestamp": 1716923252878,
     "user": {
      "displayName": "Denish Azamuke",
      "userId": "06406129299102556561"
     },
     "user_tz": -180
    },
    "id": "078e4a21",
    "outputId": "fe8ce9a1-1845-420f-d077-e1eaa83466b3"
   },
   "outputs": [
    {
     "data": {
      "text/html": [
       "<div>\n",
       "<style scoped>\n",
       "    .dataframe tbody tr th:only-of-type {\n",
       "        vertical-align: middle;\n",
       "    }\n",
       "\n",
       "    .dataframe tbody tr th {\n",
       "        vertical-align: top;\n",
       "    }\n",
       "\n",
       "    .dataframe thead th {\n",
       "        text-align: right;\n",
       "    }\n",
       "</style>\n",
       "<table border=\"1\" class=\"dataframe\">\n",
       "  <thead>\n",
       "    <tr style=\"text-align: right;\">\n",
       "      <th></th>\n",
       "      <th>step</th>\n",
       "      <th>transactionType</th>\n",
       "      <th>amount</th>\n",
       "      <th>initiator</th>\n",
       "      <th>oldBalInitiator</th>\n",
       "      <th>newBalInitiator</th>\n",
       "      <th>recipient</th>\n",
       "      <th>oldBalRecipient</th>\n",
       "      <th>newBalRecipient</th>\n",
       "      <th>isFraud</th>\n",
       "    </tr>\n",
       "  </thead>\n",
       "  <tbody>\n",
       "    <tr>\n",
       "      <th>0</th>\n",
       "      <td>0</td>\n",
       "      <td>TRANSFER</td>\n",
       "      <td>19824.96</td>\n",
       "      <td>4537027967639631</td>\n",
       "      <td>187712.18</td>\n",
       "      <td>167887.22</td>\n",
       "      <td>4875702729424478</td>\n",
       "      <td>8.31</td>\n",
       "      <td>19833.27</td>\n",
       "      <td>1</td>\n",
       "    </tr>\n",
       "    <tr>\n",
       "      <th>1</th>\n",
       "      <td>0</td>\n",
       "      <td>PAYMENT</td>\n",
       "      <td>598.97</td>\n",
       "      <td>4296267625767470</td>\n",
       "      <td>8.92</td>\n",
       "      <td>8.92</td>\n",
       "      <td>25-0000401</td>\n",
       "      <td>0.00</td>\n",
       "      <td>0.00</td>\n",
       "      <td>0</td>\n",
       "    </tr>\n",
       "    <tr>\n",
       "      <th>2</th>\n",
       "      <td>0</td>\n",
       "      <td>PAYMENT</td>\n",
       "      <td>545.85</td>\n",
       "      <td>4178224023847746</td>\n",
       "      <td>93.60</td>\n",
       "      <td>-452.25</td>\n",
       "      <td>13-0001587</td>\n",
       "      <td>0.00</td>\n",
       "      <td>545.85</td>\n",
       "      <td>0</td>\n",
       "    </tr>\n",
       "    <tr>\n",
       "      <th>3</th>\n",
       "      <td>0</td>\n",
       "      <td>TRANSFER</td>\n",
       "      <td>19847.01</td>\n",
       "      <td>4178224023847746</td>\n",
       "      <td>-452.25</td>\n",
       "      <td>-20299.26</td>\n",
       "      <td>4096920916696293</td>\n",
       "      <td>4011.72</td>\n",
       "      <td>23858.74</td>\n",
       "      <td>1</td>\n",
       "    </tr>\n",
       "    <tr>\n",
       "      <th>4</th>\n",
       "      <td>0</td>\n",
       "      <td>PAYMENT</td>\n",
       "      <td>546.89</td>\n",
       "      <td>4779013371563747</td>\n",
       "      <td>159148.76</td>\n",
       "      <td>158601.88</td>\n",
       "      <td>75-0003564</td>\n",
       "      <td>0.00</td>\n",
       "      <td>546.89</td>\n",
       "      <td>0</td>\n",
       "    </tr>\n",
       "  </tbody>\n",
       "</table>\n",
       "</div>"
      ],
      "text/plain": [
       "   step transactionType    amount         initiator  oldBalInitiator  \\\n",
       "0     0        TRANSFER  19824.96  4537027967639631        187712.18   \n",
       "1     0         PAYMENT    598.97  4296267625767470             8.92   \n",
       "2     0         PAYMENT    545.85  4178224023847746            93.60   \n",
       "3     0        TRANSFER  19847.01  4178224023847746          -452.25   \n",
       "4     0         PAYMENT    546.89  4779013371563747        159148.76   \n",
       "\n",
       "   newBalInitiator         recipient  oldBalRecipient  newBalRecipient  \\\n",
       "0        167887.22  4875702729424478             8.31         19833.27   \n",
       "1             8.92        25-0000401             0.00             0.00   \n",
       "2          -452.25        13-0001587             0.00           545.85   \n",
       "3        -20299.26  4096920916696293          4011.72         23858.74   \n",
       "4        158601.88        75-0003564             0.00           546.89   \n",
       "\n",
       "   isFraud  \n",
       "0        1  \n",
       "1        0  \n",
       "2        0  \n",
       "3        1  \n",
       "4        0  "
      ]
     },
     "execution_count": 15,
     "metadata": {},
     "output_type": "execute_result"
    }
   ],
   "source": [
    "import pandas as pd\n",
    "import matplotlib.pyplot as plt\n",
    "\n",
    "data = pd.read_csv(\"dp_mobile_money_dataset.csv\")\n",
    "\n",
    "data.head()"
   ]
  },
  {
   "cell_type": "code",
   "execution_count": 16,
   "id": "178afed2",
   "metadata": {
    "colab": {
     "base_uri": "https://localhost:8080/",
     "height": 443
    },
    "executionInfo": {
     "elapsed": 448,
     "status": "ok",
     "timestamp": 1716923279818,
     "user": {
      "displayName": "Denish Azamuke",
      "userId": "06406129299102556561"
     },
     "user_tz": -180
    },
    "id": "178afed2",
    "outputId": "6ef7df90-9e64-469c-fa05-a2dd43266bb6"
   },
   "outputs": [
    {
     "data": {
      "image/png": "[encoded data removed]",
      "text/plain": [
       "<Figure size 800x600 with 1 Axes>"
      ]
     },
     "metadata": {},
     "output_type": "display_data"
    }
   ],
   "source": [
    "fraud_sums = data.groupby('isFraud')['amount'].sum()\n",
    "\n",
    "colors = ['blue', 'red']\n",
    "\n",
    "# Plotting\n",
    "ax = fraud_sums.plot(kind='bar', figsize=(8, 6), color=colors)\n",
    "plt.title('Total Amount for Fraud vs Non-Fraud Transactions', fontsize=14)  \n",
    "plt.ylabel('Total Amount', fontsize=14)  \n",
    "plt.xlabel('Is Fraud', fontsize=14)  \n",
    "plt.xticks([0, 1], ['Non-Fraud', 'Fraud'], rotation=0)\n",
    "\n",
    "ax.tick_params(axis='both', which='major', labelsize=12)\n",
    "\n",
    "# Calculating and annotating percentages\n",
    "total = fraud_sums.sum()\n",
    "for p in ax.patches:\n",
    "    percentage = '{:.1f}%'.format(100 * p.get_height() / total)\n",
    "    x = p.get_x() + p.get_width() / 2\n",
    "    y = p.get_height() + 0.005 * total\n",
    "    ax.annotate(percentage, (x, y), ha='center', va='bottom', fontsize=12)  \n",
    "plt.show()"
   ]
  },
  {
   "cell_type": "code",
   "execution_count": 17,
   "id": "c0edc7e8",
   "metadata": {
    "colab": {
     "base_uri": "https://localhost:8080/",
     "height": 300
    },
    "executionInfo": {
     "elapsed": 2075,
     "status": "ok",
     "timestamp": 1716923285572,
     "user": {
      "displayName": "Denish Azamuke",
      "userId": "06406129299102556561"
     },
     "user_tz": -180
    },
    "id": "c0edc7e8",
    "outputId": "858e8f7f-2f74-4109-fe30-59de39fcd7ce"
   },
   "outputs": [
    {
     "data": {
      "text/html": [
       "<div>\n",
       "<style scoped>\n",
       "    .dataframe tbody tr th:only-of-type {\n",
       "        vertical-align: middle;\n",
       "    }\n",
       "\n",
       "    .dataframe tbody tr th {\n",
       "        vertical-align: top;\n",
       "    }\n",
       "\n",
       "    .dataframe thead th {\n",
       "        text-align: right;\n",
       "    }\n",
       "</style>\n",
       "<table border=\"1\" class=\"dataframe\">\n",
       "  <thead>\n",
       "    <tr style=\"text-align: right;\">\n",
       "      <th></th>\n",
       "      <th>step</th>\n",
       "      <th>amount</th>\n",
       "      <th>initiator</th>\n",
       "      <th>oldBalInitiator</th>\n",
       "      <th>newBalInitiator</th>\n",
       "      <th>oldBalRecipient</th>\n",
       "      <th>newBalRecipient</th>\n",
       "      <th>isFraud</th>\n",
       "    </tr>\n",
       "  </thead>\n",
       "  <tbody>\n",
       "    <tr>\n",
       "      <th>count</th>\n",
       "      <td>1.720181e+06</td>\n",
       "      <td>1.720181e+06</td>\n",
       "      <td>1.720181e+06</td>\n",
       "      <td>1.720181e+06</td>\n",
       "      <td>1.720181e+06</td>\n",
       "      <td>1.720181e+06</td>\n",
       "      <td>1.720181e+06</td>\n",
       "      <td>1.720181e+06</td>\n",
       "    </tr>\n",
       "    <tr>\n",
       "      <th>mean</th>\n",
       "      <td>6.555529e+01</td>\n",
       "      <td>5.253868e+04</td>\n",
       "      <td>4.499952e+15</td>\n",
       "      <td>2.433758e+06</td>\n",
       "      <td>2.443880e+06</td>\n",
       "      <td>1.085083e+05</td>\n",
       "      <td>1.222772e+05</td>\n",
       "      <td>1.020346e-01</td>\n",
       "    </tr>\n",
       "    <tr>\n",
       "      <th>std</th>\n",
       "      <td>4.467368e+01</td>\n",
       "      <td>8.835650e+04</td>\n",
       "      <td>2.896351e+14</td>\n",
       "      <td>1.307615e+06</td>\n",
       "      <td>1.297181e+06</td>\n",
       "      <td>2.830138e+05</td>\n",
       "      <td>3.192277e+05</td>\n",
       "      <td>3.026939e-01</td>\n",
       "    </tr>\n",
       "    <tr>\n",
       "      <th>min</th>\n",
       "      <td>0.000000e+00</td>\n",
       "      <td>2.400000e-01</td>\n",
       "      <td>4.000062e+15</td>\n",
       "      <td>-1.999971e+05</td>\n",
       "      <td>-1.999971e+05</td>\n",
       "      <td>-1.983685e+05</td>\n",
       "      <td>-1.357280e+05</td>\n",
       "      <td>0.000000e+00</td>\n",
       "    </tr>\n",
       "    <tr>\n",
       "      <th>25%</th>\n",
       "      <td>2.300000e+01</td>\n",
       "      <td>6.064600e+02</td>\n",
       "      <td>4.248762e+15</td>\n",
       "      <td>1.577186e+06</td>\n",
       "      <td>1.600496e+06</td>\n",
       "      <td>1.606423e+04</td>\n",
       "      <td>2.496233e+04</td>\n",
       "      <td>0.000000e+00</td>\n",
       "    </tr>\n",
       "    <tr>\n",
       "      <th>50%</th>\n",
       "      <td>5.400000e+01</td>\n",
       "      <td>1.729825e+04</td>\n",
       "      <td>4.508521e+15</td>\n",
       "      <td>2.619827e+06</td>\n",
       "      <td>2.625680e+06</td>\n",
       "      <td>6.313018e+04</td>\n",
       "      <td>7.448161e+04</td>\n",
       "      <td>0.000000e+00</td>\n",
       "    </tr>\n",
       "    <tr>\n",
       "      <th>75%</th>\n",
       "      <td>1.060000e+02</td>\n",
       "      <td>7.116149e+04</td>\n",
       "      <td>4.750928e+15</td>\n",
       "      <td>3.361338e+06</td>\n",
       "      <td>3.361872e+06</td>\n",
       "      <td>1.373822e+05</td>\n",
       "      <td>1.431702e+05</td>\n",
       "      <td>0.000000e+00</td>\n",
       "    </tr>\n",
       "    <tr>\n",
       "      <th>max</th>\n",
       "      <td>1.430000e+02</td>\n",
       "      <td>2.142928e+06</td>\n",
       "      <td>4.999855e+15</td>\n",
       "      <td>1.224469e+07</td>\n",
       "      <td>1.224469e+07</td>\n",
       "      <td>1.188554e+07</td>\n",
       "      <td>1.206621e+07</td>\n",
       "      <td>1.000000e+00</td>\n",
       "    </tr>\n",
       "  </tbody>\n",
       "</table>\n",
       "</div>"
      ],
      "text/plain": [
       "               step        amount     initiator  oldBalInitiator  \\\n",
       "count  1.720181e+06  1.720181e+06  1.720181e+06     1.720181e+06   \n",
       "mean   6.555529e+01  5.253868e+04  4.499952e+15     2.433758e+06   \n",
       "std    4.467368e+01  8.835650e+04  2.896351e+14     1.307615e+06   \n",
       "min    0.000000e+00  2.400000e-01  4.000062e+15    -1.999971e+05   \n",
       "25%    2.300000e+01  6.064600e+02  4.248762e+15     1.577186e+06   \n",
       "50%    5.400000e+01  1.729825e+04  4.508521e+15     2.619827e+06   \n",
       "75%    1.060000e+02  7.116149e+04  4.750928e+15     3.361338e+06   \n",
       "max    1.430000e+02  2.142928e+06  4.999855e+15     1.224469e+07   \n",
       "\n",
       "       newBalInitiator  oldBalRecipient  newBalRecipient       isFraud  \n",
       "count     1.720181e+06     1.720181e+06     1.720181e+06  1.720181e+06  \n",
       "mean      2.443880e+06     1.085083e+05     1.222772e+05  1.020346e-01  \n",
       "std       1.297181e+06     2.830138e+05     3.192277e+05  3.026939e-01  \n",
       "min      -1.999971e+05    -1.983685e+05    -1.357280e+05  0.000000e+00  \n",
       "25%       1.600496e+06     1.606423e+04     2.496233e+04  0.000000e+00  \n",
       "50%       2.625680e+06     6.313018e+04     7.448161e+04  0.000000e+00  \n",
       "75%       3.361872e+06     1.373822e+05     1.431702e+05  0.000000e+00  \n",
       "max       1.224469e+07     1.188554e+07     1.206621e+07  1.000000e+00  "
      ]
     },
     "execution_count": 17,
     "metadata": {},
     "output_type": "execute_result"
    }
   ],
   "source": [
    "data.describe()"
   ]
  },
  {
   "cell_type": "code",
   "execution_count": 18,
   "id": "54e9c718",
   "metadata": {
    "colab": {
     "base_uri": "https://localhost:8080/"
    },
    "executionInfo": {
     "elapsed": 1456,
     "status": "ok",
     "timestamp": 1716923291181,
     "user": {
      "displayName": "Denish Azamuke",
      "userId": "06406129299102556561"
     },
     "user_tz": -180
    },
    "id": "54e9c718",
    "outputId": "d5bfd492-231d-4b0a-e7a4-cbe2d2afe12f"
   },
   "outputs": [
    {
     "name": "stdout",
     "output_type": "stream",
     "text": [
      "               step        amount     initiator  oldBalInitiator  \\\n",
      "count  1.720181e+06  1.720181e+06  1.720181e+06     1.720181e+06   \n",
      "mean   6.555529e+01  5.253868e+04  4.499952e+15     2.433758e+06   \n",
      "std    4.467368e+01  8.835650e+04  2.896351e+14     1.307615e+06   \n",
      "min    0.000000e+00  2.400000e-01  4.000062e+15    -1.999971e+05   \n",
      "25%    2.300000e+01  6.064600e+02  4.248762e+15     1.577186e+06   \n",
      "50%    5.400000e+01  1.729825e+04  4.508521e+15     2.619827e+06   \n",
      "75%    1.060000e+02  7.116149e+04  4.750928e+15     3.361338e+06   \n",
      "max    1.430000e+02  2.142928e+06  4.999855e+15     1.224469e+07   \n",
      "\n",
      "       newBalInitiator  oldBalRecipient  newBalRecipient       isFraud  \n",
      "count     1.720181e+06     1.720181e+06     1.720181e+06  1.720181e+06  \n",
      "mean      2.443880e+06     1.085083e+05     1.222772e+05  1.020346e-01  \n",
      "std       1.297181e+06     2.830138e+05     3.192277e+05  3.026939e-01  \n",
      "min      -1.999971e+05    -1.983685e+05    -1.357280e+05  0.000000e+00  \n",
      "25%       1.600496e+06     1.606423e+04     2.496233e+04  0.000000e+00  \n",
      "50%       2.625680e+06     6.313018e+04     7.448161e+04  0.000000e+00  \n",
      "75%       3.361872e+06     1.373822e+05     1.431702e+05  0.000000e+00  \n",
      "max       1.224469e+07     1.188554e+07     1.206621e+07  1.000000e+00  \n"
     ]
    }
   ],
   "source": [
    "print(data.describe())\n"
   ]
  },
  {
   "cell_type": "code",
   "execution_count": 19,
   "id": "23df206a",
   "metadata": {
    "colab": {
     "base_uri": "https://localhost:8080/"
    },
    "executionInfo": {
     "elapsed": 427,
     "status": "ok",
     "timestamp": 1716923293994,
     "user": {
      "displayName": "Denish Azamuke",
      "userId": "06406129299102556561"
     },
     "user_tz": -180
    },
    "id": "23df206a",
    "outputId": "15eae5e7-7c45-4b8f-ff23-528c01350df6"
   },
   "outputs": [
    {
     "name": "stdout",
     "output_type": "stream",
     "text": [
      "step               0\n",
      "transactionType    0\n",
      "amount             0\n",
      "initiator          0\n",
      "oldBalInitiator    0\n",
      "newBalInitiator    0\n",
      "recipient          0\n",
      "oldBalRecipient    0\n",
      "newBalRecipient    0\n",
      "isFraud            0\n",
      "dtype: int64\n"
     ]
    }
   ],
   "source": [
    "null_counts = data.isnull().sum()\n",
    "print(null_counts)\n"
   ]
  },
  {
   "cell_type": "code",
   "execution_count": 20,
   "id": "48768b7c",
   "metadata": {
    "id": "48768b7c",
    "outputId": "23413076-1904-4e8b-9520-801cabb1f52d"
   },
   "outputs": [
    {
     "name": "stdout",
     "output_type": "stream",
     "text": [
      "step               0.0\n",
      "transactionType    0.0\n",
      "amount             0.0\n",
      "initiator          0.0\n",
      "oldBalInitiator    0.0\n",
      "newBalInitiator    0.0\n",
      "recipient          0.0\n",
      "oldBalRecipient    0.0\n",
      "newBalRecipient    0.0\n",
      "isFraud            0.0\n",
      "dtype: float64\n"
     ]
    }
   ],
   "source": [
    "null_percentage = (data.isnull().sum() / len(data)) * 100\n",
    "print(null_percentage)\n"
   ]
  }
 ],
 "metadata": {
  "colab": {
   "provenance": []
  },
  "kernelspec": {
   "display_name": "Python 3 (ipykernel)",
   "language": "python",
   "name": "python3"
  },
  "language_info": {
   "codemirror_mode": {
    "name": "ipython",
    "version": 3
   },
   "file_extension": ".py",
   "mimetype": "text/x-python",
   "name": "python",
   "nbconvert_exporter": "python",
   "pygments_lexer": "ipython3",
   "version": "3.11.5"
  }
 },
 "nbformat": 4,
 "nbformat_minor": 5
}
